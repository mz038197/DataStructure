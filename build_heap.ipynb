{
  "nbformat": 4,
  "nbformat_minor": 0,
  "metadata": {
    "colab": {
      "name": "build_heap.ipynb",
      "provenance": [],
      "authorship_tag": "ABX9TyM97NmsA8RVH8YWUkl3HaUt",
      "include_colab_link": true
    },
    "kernelspec": {
      "name": "python3",
      "display_name": "Python 3"
    }
  },
  "cells": [
    {
      "cell_type": "markdown",
      "metadata": {
        "id": "view-in-github",
        "colab_type": "text"
      },
      "source": [
        "<a href=\"https://colab.research.google.com/github/mz038197/DataStructure/blob/master/build_heap.ipynb\" target=\"_parent\"><img src=\"https://colab.research.google.com/assets/colab-badge.svg\" alt=\"Open In Colab\"/></a>"
      ]
    },
    {
      "cell_type": "code",
      "metadata": {
        "id": "ztARvPL8E7NK",
        "colab_type": "code",
        "colab": {
          "base_uri": "https://localhost:8080/",
          "height": 136
        },
        "outputId": "1408789c-87b8-4d7a-d82c-f0900a0faf5f"
      },
      "source": [
        "def SiftDown(index, data, swaps):\n",
        "  minIdx = index\n",
        "  l = index*2+1\n",
        "\n",
        "  #Check leftChild\n",
        "  if l <= len(data) and data[minIdx] > data[l]:\n",
        "    minIdx = l\n",
        "\n",
        "  #Check rightChild  \n",
        "  r = index*2+2\n",
        "  if r <= len(data) and data[minIdx] > data[r]:\n",
        "    minIdx = r\n",
        "    \n",
        "  if index is not minIdx:\n",
        "    swaps.append((index, minIdx))\n",
        "    data[index], data[minIdx] = data[minIdx], data[index]\n",
        "    SiftDown(minIdx, data, swaps)\n",
        "\n",
        "\n",
        "def build_heap(data):\n",
        "  swaps = []\n",
        "\n",
        "  size = len(data)\n",
        "  for i in range(int(size/2)-1, -1, -1):\n",
        "    SiftDown(i, data, swaps)\n",
        "  return swaps\n",
        "\n",
        "  \"\"\"Build a heap from ``data`` inplace.\n",
        "\n",
        "  Returns a sequence of swaps performed by the algorithm.\n",
        "  \"\"\"\n",
        "  # The following naive implementation just sorts the given sequence\n",
        "  # using selection sort algorithm and saves the resulting sequence\n",
        "  # of swaps. This turns the given array into a heap, but in the worst\n",
        "  # case gives a quadratic number of swaps.\n",
        "  #\n",
        "  # TODO: replace by a more efficient implementation\n",
        "  # swaps = []\n",
        "  # for i in range(len(data)):\n",
        "  #     for j in range(i + 1, len(data)):\n",
        "  #         if data[i] > data[j]:\n",
        "  #             swaps.append((i, j))\n",
        "  #             data[i], data[j] = data[j], data[i]\n",
        "  # return swaps\n",
        "\n",
        "n = int(input())\n",
        "data = list(map(int, input().split()))\n",
        "assert len(data) == n\n",
        "\n",
        "swaps = build_heap(data)\n",
        "\n",
        "print(\"data:{}\".format(data))\n",
        "print(len(swaps))\n",
        "for i, j in swaps:\n",
        "    print(i, j)"
      ],
      "execution_count": null,
      "outputs": [
        {
          "output_type": "stream",
          "text": [
            "5\n",
            "5 4 3 2 1\n",
            "data:[1, 2, 3, 5, 4]\n",
            "3\n",
            "1 4\n",
            "0 1\n",
            "1 3\n"
          ],
          "name": "stdout"
        }
      ]
    },
    {
      "cell_type": "code",
      "metadata": {
        "id": "GYG4HZ8bGADu",
        "colab_type": "code",
        "colab": {}
      },
      "source": [
        ""
      ],
      "execution_count": null,
      "outputs": []
    }
  ]
}